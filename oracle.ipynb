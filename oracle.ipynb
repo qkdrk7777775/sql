{
 "cells": [
  {
   "cell_type": "code",
   "execution_count": 1,
   "metadata": {
    "execution": {
     "iopub.execute_input": "2020-12-03T13:16:49.412608Z",
     "iopub.status.busy": "2020-12-03T13:16:49.412313Z",
     "iopub.status.idle": "2020-12-03T13:16:49.420554Z",
     "shell.execute_reply": "2020-12-03T13:16:49.419476Z",
     "shell.execute_reply.started": "2020-12-03T13:16:49.412569Z"
    }
   },
   "outputs": [],
   "source": [
    "import cx_Oracle"
   ]
  },
  {
   "cell_type": "code",
   "execution_count": 4,
   "metadata": {
    "execution": {
     "iopub.execute_input": "2020-12-03T13:17:17.518885Z",
     "iopub.status.busy": "2020-12-03T13:17:17.518512Z",
     "iopub.status.idle": "2020-12-03T13:17:17.523224Z",
     "shell.execute_reply": "2020-12-03T13:17:17.522310Z",
     "shell.execute_reply.started": "2020-12-03T13:17:17.518845Z"
    }
   },
   "outputs": [],
   "source": [
    "import os\n",
    "os.putenv('NLS_LANG', 'KOREAN_KOREA.KO16MSWIN949')"
   ]
  },
  {
   "cell_type": "code",
   "execution_count": 2,
   "metadata": {
    "execution": {
     "iopub.execute_input": "2020-12-03T13:16:59.463157Z",
     "iopub.status.busy": "2020-12-03T13:16:59.462942Z",
     "iopub.status.idle": "2020-12-03T13:16:59.506886Z",
     "shell.execute_reply": "2020-12-03T13:16:59.506217Z",
     "shell.execute_reply.started": "2020-12-03T13:16:59.463135Z"
    }
   },
   "outputs": [],
   "source": [
    "connect = cx_Oracle.connect(\"ducj\", \"whckdwp1\", \"ducj3.iptime.org:1521/XE\")"
   ]
  },
  {
   "cell_type": "code",
   "execution_count": 3,
   "metadata": {
    "execution": {
     "iopub.execute_input": "2020-12-03T13:17:11.493552Z",
     "iopub.status.busy": "2020-12-03T13:17:11.493195Z",
     "iopub.status.idle": "2020-12-03T13:17:11.509989Z",
     "shell.execute_reply": "2020-12-03T13:17:11.508939Z",
     "shell.execute_reply.started": "2020-12-03T13:17:11.493513Z"
    }
   },
   "outputs": [
    {
     "data": {
      "text/plain": [
       "<cx_Oracle.Connection to ducj@ducj3.iptime.org:1521/XE>"
      ]
     },
     "execution_count": 3,
     "metadata": {},
     "output_type": "execute_result"
    }
   ],
   "source": [
    "connect"
   ]
  },
  {
   "cell_type": "code",
   "execution_count": null,
   "metadata": {},
   "outputs": [],
   "source": []
  }
 ],
 "metadata": {
  "kernelspec": {
   "display_name": "Python 3",
   "language": "python",
   "name": "python3"
  },
  "language_info": {
   "codemirror_mode": {
    "name": "ipython",
    "version": 3
   },
   "file_extension": ".py",
   "mimetype": "text/x-python",
   "name": "python",
   "nbconvert_exporter": "python",
   "pygments_lexer": "ipython3",
   "version": "3.6.11"
  },
  "widgets": {
   "application/vnd.jupyter.widget-state+json": {
    "state": {},
    "version_major": 2,
    "version_minor": 0
   }
  }
 },
 "nbformat": 4,
 "nbformat_minor": 4
}
