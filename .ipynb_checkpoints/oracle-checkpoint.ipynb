{
 "cells": [
  {
   "cell_type": "code",
   "execution_count": 3,
   "metadata": {
    "execution": {
     "iopub.execute_input": "2020-12-06T15:52:40.320089Z",
     "iopub.status.busy": "2020-12-06T15:52:40.319705Z",
     "iopub.status.idle": "2020-12-06T15:52:40.329680Z",
     "shell.execute_reply": "2020-12-06T15:52:40.328915Z",
     "shell.execute_reply.started": "2020-12-06T15:52:40.320031Z"
    }
   },
   "outputs": [],
   "source": [
    "import cx_Oracle"
   ]
  },
  {
   "cell_type": "code",
   "execution_count": 4,
   "metadata": {
    "execution": {
     "iopub.execute_input": "2020-12-06T15:52:41.208858Z",
     "iopub.status.busy": "2020-12-06T15:52:41.208623Z",
     "iopub.status.idle": "2020-12-06T15:52:41.211927Z",
     "shell.execute_reply": "2020-12-06T15:52:41.211371Z",
     "shell.execute_reply.started": "2020-12-06T15:52:41.208836Z"
    }
   },
   "outputs": [],
   "source": [
    "import os\n",
    "os.putenv('NLS_LANG', 'KOREAN_KOREA.KO16MSWIN949')"
   ]
  },
  {
   "cell_type": "code",
   "execution_count": 12,
   "metadata": {
    "execution": {
     "iopub.execute_input": "2020-12-06T15:53:26.208100Z",
     "iopub.status.busy": "2020-12-06T15:53:26.207650Z",
     "iopub.status.idle": "2020-12-06T15:53:26.218207Z",
     "shell.execute_reply": "2020-12-06T15:53:26.216850Z",
     "shell.execute_reply.started": "2020-12-06T15:53:26.208031Z"
    }
   },
   "outputs": [],
   "source": [
    "import pandas as pd\n",
    "pw=pd.read_csv('pw.csv').columns[0][:-2]"
   ]
  },
  {
   "cell_type": "code",
   "execution_count": 13,
   "metadata": {
    "execution": {
     "iopub.execute_input": "2020-12-06T15:53:32.208689Z",
     "iopub.status.busy": "2020-12-06T15:53:32.208382Z",
     "iopub.status.idle": "2020-12-06T15:53:32.244002Z",
     "shell.execute_reply": "2020-12-06T15:53:32.243412Z",
     "shell.execute_reply.started": "2020-12-06T15:53:32.208657Z"
    }
   },
   "outputs": [],
   "source": [
    "connect = cx_Oracle.connect(\"ducj\", pw, \"ducj3.iptime.org:1521/XE\")"
   ]
  },
  {
   "cell_type": "code",
   "execution_count": 14,
   "metadata": {
    "execution": {
     "iopub.execute_input": "2020-12-06T15:53:33.208437Z",
     "iopub.status.busy": "2020-12-06T15:53:33.208215Z",
     "iopub.status.idle": "2020-12-06T15:53:33.214031Z",
     "shell.execute_reply": "2020-12-06T15:53:33.213187Z",
     "shell.execute_reply.started": "2020-12-06T15:53:33.208414Z"
    }
   },
   "outputs": [
    {
     "data": {
      "text/plain": [
       "<cx_Oracle.Connection to ducj@ducj3.iptime.org:1521/XE>"
      ]
     },
     "execution_count": 14,
     "metadata": {},
     "output_type": "execute_result"
    }
   ],
   "source": [
    "connect"
   ]
  },
  {
   "cell_type": "code",
   "execution_count": null,
   "metadata": {},
   "outputs": [],
   "source": []
  }
 ],
 "metadata": {
  "kernelspec": {
   "display_name": "Python 3",
   "language": "python",
   "name": "python3"
  },
  "language_info": {
   "codemirror_mode": {
    "name": "ipython",
    "version": 3
   },
   "file_extension": ".py",
   "mimetype": "text/x-python",
   "name": "python",
   "nbconvert_exporter": "python",
   "pygments_lexer": "ipython3",
   "version": "3.6.11"
  },
  "widgets": {
   "application/vnd.jupyter.widget-state+json": {
    "state": {},
    "version_major": 2,
    "version_minor": 0
   }
  }
 },
 "nbformat": 4,
 "nbformat_minor": 4
}
